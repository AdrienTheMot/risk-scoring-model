{
 "cells": [
  {
   "cell_type": "markdown",
   "id": "c9b41e9d",
   "metadata": {},
   "source": [
    "# Risk Scoring Model Demo\n",
   ]
  },
  {
   "cell_type": "code",
   "execution_count": null,
   "id": "b2e489f8",
   "metadata": {},
   "outputs": [],
   "source": [
    "import pandas as pd\n",
    "from risk_pipeline import Schema, fit_model, save_model, load_model, predict_proba"
   ]
  },
  {
   "cell_type": "code",
   "execution_count": null,
   "id": "7c305064",
   "metadata": {},
   "outputs": [],
   "source": [
    "df = pd.read_csv('example_data.csv')\n",
    "df.head()"
   ]
  },
  {
   "cell_type": "code",
   "execution_count": null,
   "id": "ffb32f80",
   "metadata": {},
   "outputs": [],
   "source": [
    "schema = Schema(numeric=['age','income','debt_to_income','credit_history_years','delinquencies','inquiries_6m','utilization','num_open_accounts'],categorical=['has_mortgage','region'],target='default')\n",
    "pipe = fit_model(df,schema)\n",
    "save_model(pipe,'models/risk_rf.pkl')"
   ]
  },
  {
   "cell_type": "code",
   "execution_count": null,
   "id": "8b4cf900",
   "metadata": {},
   "outputs": [],
   "source": [
    "pipe2 = load_model('models/risk_rf.pkl')\n",
    "X = df.drop(columns=['default'])\n",
    "scores = predict_proba(pipe2,X)\n",
    "X.assign(default_proba=scores).head()"
   ]
  }
 ],
 "metadata": {},
 "nbformat": 4,
 "nbformat_minor": 5
}
